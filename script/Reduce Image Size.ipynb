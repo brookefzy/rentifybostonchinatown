{
 "cells": [
  {
   "cell_type": "code",
   "execution_count": 1,
   "metadata": {},
   "outputs": [],
   "source": [
    "import math\n",
    "from PIL import Image\n",
    "from PIL.ExifTags import TAGS\n",
    "import numpy as np\n",
    "import pandas as pd\n",
    "import geopandas as gpd\n",
    "from GPSPhoto import gpsphoto\n",
    "import os\n",
    "from fractions import Fraction\n",
    "import piexif\n",
    "import shutil\n",
    "\n"
   ]
  },
  {
   "cell_type": "code",
   "execution_count": 23,
   "metadata": {},
   "outputs": [],
   "source": [
    "filepath='/Users/yuanfan/rentify/img'\n",
    "\n",
    "filelist=os.listdir(filepath)\n",
    "imglist=[]\n",
    "x2=200\n",
    "for file in filelist[:]: # filelist[:] makes a copy of filelist.\n",
    "    if (file.endswith(\".jpg\")):\n",
    "        foo = Image.open(os.path.join(filepath,file))\n",
    "        x, y = foo.size\n",
    "        y2 = int(round((x2/x)*y))\n",
    "        foo = foo.resize((x2,y2),Image.ANTIALIAS)\n",
    "        foo.save(os.path.join(filepath,file),quality=95)\n",
    "        \n"
   ]
  },
  {
   "cell_type": "code",
   "execution_count": 18,
   "metadata": {},
   "outputs": [
    {
     "data": {
      "text/plain": [
       "(490, 878)"
      ]
     },
     "execution_count": 18,
     "metadata": {},
     "output_type": "execute_result"
    }
   ],
   "source": [
    "foo = Image.open(os.path.join(filepath,file))\n",
    "foo.size"
   ]
  },
  {
   "cell_type": "code",
   "execution_count": 15,
   "metadata": {},
   "outputs": [
    {
     "data": {
      "text/plain": [
       "['TongWarandSiWooRestaurant.jpg',\n",
       " 'TheGoodEarth.jpg',\n",
       " 'RubyFoosDen.jpg',\n",
       " 'CathayHouseRestaurant.jpg',\n",
       " 'HongFarLowRestaurant.jpg',\n",
       " 'GamsunRestaurant.jpg',\n",
       " 'LockSenLowRestaurant.jpg',\n",
       " 'HonFaLow.jpg',\n",
       " 'JoyHongLowRestaurant.jpg',\n",
       " 'HonHongLow.jpg']"
      ]
     },
     "execution_count": 15,
     "metadata": {},
     "output_type": "execute_result"
    }
   ],
   "source": [
    "imglist"
   ]
  },
  {
   "cell_type": "code",
   "execution_count": null,
   "metadata": {},
   "outputs": [],
   "source": [
    "foo = Image.open(\"../img/\")\n",
    "x, y = foo.size\n",
    "x2, y2 = math.floor(x-50), math.floor(y-20)\n",
    "foo = foo.resize((x2,y2),Image.ANTIALIAS)\n",
    "foo.save(\"path\\\\to\\\\save\\\\image_scaled.jpg\",quality=95)"
   ]
  }
 ],
 "metadata": {
  "kernelspec": {
   "display_name": "Python 3",
   "language": "python",
   "name": "python3"
  },
  "language_info": {
   "codemirror_mode": {
    "name": "ipython",
    "version": 3
   },
   "file_extension": ".py",
   "mimetype": "text/x-python",
   "name": "python",
   "nbconvert_exporter": "python",
   "pygments_lexer": "ipython3",
   "version": "3.7.3"
  }
 },
 "nbformat": 4,
 "nbformat_minor": 2
}
